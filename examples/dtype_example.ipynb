{
 "cells": [
  {
   "cell_type": "markdown",
   "metadata": {},
   "source": [
    "This notebook shows example use of the Raster2STAC library: \n",
    "- Dataset with multiple bands but the same dtype (SENTINEL_SAMPLE)\n",
    "- Dataset with multiple bands but different dtype "
   ]
  },
  {
   "cell_type": "code",
   "execution_count": null,
   "metadata": {},
   "outputs": [],
   "source": []
  }
 ],
 "metadata": {
  "language_info": {
   "name": "python"
  }
 },
 "nbformat": 4,
 "nbformat_minor": 2
}
